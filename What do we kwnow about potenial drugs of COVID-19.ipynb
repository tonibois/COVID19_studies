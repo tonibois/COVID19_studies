{
 "cells": [
  {
   "cell_type": "markdown",
   "metadata": {},
   "source": [
    "## What do we know about therapeutics? A molecular candidate similarity analysis"
   ]
  },
  {
   "cell_type": "markdown",
   "metadata": {},
   "source": [
    "********************************************************************************************************************************\n",
    " Antonio Oliver Gelabert ( ORCID : http://orcid.org/0000-0001-8571-2733 )\n",
    " March, 2020\n",
    " *******************************************************************************************************************************"
   ]
  },
  {
   "cell_type": "markdown",
   "metadata": {},
   "source": [
    "### Proteins and targets of COVID-19:\n",
    "\n",
    "+ https://news.northwestern.edu/stories/2020/03/new-drug-target-found-for-covid-19/\n",
    "+ https://www.biorxiv.org/content/10.1101/2020.03.02.968388v1\n",
    "+ http://www.rcsb.org/pdb/results/results.do?tabtoshow=Current&qrid=F2FE26F4\n"
   ]
  },
  {
   "cell_type": "markdown",
   "metadata": {},
   "source": [
    "### Drugs that are currently testing against COVID19 \n",
    "\n",
    "From source:https://www.linkedin.com/pulse/covid-19-treatments-clinical-trials-ana-gavald%25C3%25A1/?trackingId=tzMbX9MOQUK8qJMQDKuE3w%3D%3D\n",
    "\n",
    "1. REMDESIVIR - Antiviral, prefered treatment against COVID-19 (https://en.wikipedia.org/wiki/Remdesivir ), (https://www.foxnews.com/science/remdesivir-what-to-know-about-potential-coronavirus-treatment ) ,( https://www.nature.com/articles/d41573-020-00016-0 )\n",
    "2. CHLOROQUINE - Antimalarial (https://en.wikipedia.org/wiki/Chloroquine )\n",
    "3. HYDROXYCHLOROQUINE - Derivative that improves CHLOROQUINE effectiveness (https://www.nature.com/articles/s41421-020-0156-0.pdf )\n",
    "4. LOPINAVIR  - Antiviral against VIH (https://en.wikipedia.org/wiki/Lopinavir )\n",
    "5. DARUNAVIR  - Antiviral against VIH (https://en.wikipedia.org/wiki/Darunavir )\n",
    "6. FAVIPIRAVIR - Effective with Ebola and other viruses (https://www.livescience.com/flu-drug-could-treat-coronavirus.html ) (https://www.redaccionmedica.com/secciones/sanidad-hoy/coronavirus-tratamiento-china-anuncia-resultados-del-antiviral-favipiravir-4773 )\n",
    "7. THALIDOMIDE - (https://en.wikipedia.org/wiki/Thalidomide )\n",
    "8. FINGOLIMOD  - Inmunomodulator effect. Multiple sclerosis (MS) threatment (https://en.wikipedia.org/wiki/Fingolimod )\n",
    "9. GALIDESIVIR - (https://en.wikipedia.org/wiki/Galidesivir )\n",
    "\n",
    "Antiviral drug list: https://es.wikipedia.org/wiki/Anexo:C%C3%B3digo_ATC_J05"
   ]
  },
  {
   "cell_type": "code",
   "execution_count": 228,
   "metadata": {},
   "outputs": [
    {
     "data": {
      "text/html": [
       "\n",
       "        <iframe\n",
       "            width=\"1000\"\n",
       "            height=\"900\"\n",
       "            src=\"http://www.rcsb.org/3d-view/6W4H/1\"\n",
       "            frameborder=\"0\"\n",
       "            allowfullscreen\n",
       "        ></iframe>\n",
       "        "
      ],
      "text/plain": [
       "<IPython.lib.display.IFrame at 0x297718b9940>"
      ]
     },
     "execution_count": 228,
     "metadata": {},
     "output_type": "execute_result"
    }
   ],
   "source": [
    "from IPython.display import IFrame\n",
    "IFrame(src='http://www.rcsb.org/3d-view/6W4H/1', width=1000, height=900)"
   ]
  },
  {
   "cell_type": "markdown",
   "metadata": {},
   "source": [
    "Two major ligands observed to interact with that protein (http://www.rcsb.org/structure/6W4H):\n",
    "+ https://en.wikipedia.org/wiki/S-Adenosyl_methionine \n",
    "+ https://pubchem.ncbi.nlm.nih.gov/compound/beta-D-Fructopyranose#section=Wikipedia "
   ]
  },
  {
   "cell_type": "markdown",
   "metadata": {},
   "source": [
    "### Protein Databases:\n",
    "   1. Protein Data Bank (https://www.rcsb.org/) \n",
    "   2. Uniprot (https://www.uniprot.org/)\n",
    "   3. DUD (for testing:http://dud.docking.org/ , 40 target proteins)\n",
    "   4. DUD-E (for testing: http://dude.docking.org/, extended, 100 target proteins)"
   ]
  },
  {
   "cell_type": "markdown",
   "metadata": {},
   "source": [
    "### Common Molecular Formats (https://en.wiki)pedia.org/wiki/Chemical_table_file):\n",
    "   1. One-D : \n",
    "       + SMILES           (https://en.wikipedia.org/wiki/Simplified_molecular-input_line-entry_system)\n",
    "       + InChI/InChI Key  (https://en.wikipedia.org/wiki/International_Chemical_Identifier)\n",
    "   2. Two-D :\n",
    "        + SDF (http://biotech.fyicenter.com/resource/sdf_format.html)\n",
    "        + MOL (https://reference.wolfram.com/language/ref/format/MOL.html)\n",
    "   3. Three-D\n",
    "        + MOL2 (http://www.csb.yale.edu/userguides/datamanip/dock/DOCK_4.0.1/html/Manual.41.html)\n",
    "        + PDB (https://en.wikipedia.org/wiki/Protein_Data_Bank_(file_format))"
   ]
  },
  {
   "cell_type": "markdown",
   "metadata": {},
   "source": [
    "### Simulation of propagation  :https://www.washingtonpost.com/graphics/2020/world/corona-simulator/"
   ]
  },
  {
   "cell_type": "markdown",
   "metadata": {},
   "source": [
    "### Real Time coronavirus case-maps:\n",
    "   + https://coronavirus.jhu.edu/map.html\n",
    "   + https://www.trackcorona.live/\n",
    "   + https://hgis.uw.edu/virus/"
   ]
  },
  {
   "cell_type": "code",
   "execution_count": 229,
   "metadata": {},
   "outputs": [
    {
     "data": {
      "text/html": [
       "\n",
       "        <iframe\n",
       "            width=\"900\"\n",
       "            height=\"500\"\n",
       "            src=\"https://coronavirus.jhu.edu\"\n",
       "            frameborder=\"0\"\n",
       "            allowfullscreen\n",
       "        ></iframe>\n",
       "        "
      ],
      "text/plain": [
       "<IPython.lib.display.IFrame at 0x297718b9358>"
      ]
     },
     "execution_count": 229,
     "metadata": {},
     "output_type": "execute_result"
    }
   ],
   "source": [
    "from IPython.display import IFrame\n",
    "IFrame(src='https://coronavirus.jhu.edu', width=900, height=500)"
   ]
  },
  {
   "cell_type": "markdown",
   "metadata": {},
   "source": [
    "### Top Pandemics : \n",
    "\n",
    "https://www.visualcapitalist.com/history-of-pandemics-deadliest/"
   ]
  },
  {
   "cell_type": "markdown",
   "metadata": {},
   "source": [
    "### Useful information, treatment and protocols described by chinese comunity: \n",
    "https://www.who.int/emergencies/diseases/novel-coronavirus-2019/technical-guidance"
   ]
  },
  {
   "cell_type": "markdown",
   "metadata": {},
   "source": [
    "### Software for molecular visualization, format conversion and structure treatment:\n",
    "\n",
    "   + OPENBABEL (http://openbabel.org/wiki/Main_Page) - command line version or: pip install openbabel\n",
    "   + PYBEL (pip install pybel)\n",
    "   + JMOL (http://jmol.sourceforge.net/download/)\n",
    "   + AVOGADRO (http://avogadro.cc/)\n",
    "   + VMD (https://www.ks.uiuc.edu/Research/vmd/)\n",
    "   + CHIMERA (https://www.cgl.ucsf.edu/chimera/)\n",
    "   + PYMOL (https://pymol.org/2/)"
   ]
  },
  {
   "cell_type": "markdown",
   "metadata": {},
   "source": [
    "#### Using Openbabel for molecule visuatization (example list of drugs on test with covid19, REMDESIVIR)\n",
    "\n",
    "1. Lets first obtain the SMILES code, available on wikipedia link provided : \"CCC(COC(=O)[C@@H](NP(=O)(Oc1ccccc1)OC[C@H]1O[C@@]([C@@H]([C@@H]1O)O)(C#N)c1ccc2n1ncnc2N)C)CC\" and put in a new text file. Save as REMDESIVIR.smi.\n",
    "2. To continue use openbabel to convert to 2D or 3D format to visualize molecule information and structure. \n"
   ]
  },
  {
   "cell_type": "code",
   "execution_count": 230,
   "metadata": {},
   "outputs": [
    {
     "name": "stderr",
     "output_type": "stream",
     "text": [
      "1 molecule converted\n",
      "1 molecule converted\n",
      "1 molecule converted\n"
     ]
    }
   ],
   "source": [
    "!obabel -ismi REMDESIVIR.smi -opng -O remdes.png \n",
    "!obabel -ismi REMDESIVIR.smi -osvg -O remdes.svg\n",
    "!obabel -ismi REMDESIVIR.smi -omol2 -O remdes.mol2 --gen3d --partialcharge mmff94"
   ]
  },
  {
   "cell_type": "code",
   "execution_count": 231,
   "metadata": {},
   "outputs": [],
   "source": [
    "# To visualize 2D structure using png generated file \n",
    "import cv2\n",
    "import matplotlib.pyplot as plt\n",
    "img = cv2.imread('remdes.png') \n",
    "plt.figure(figsize=(10,10))\n",
    "plt.imshow(img);"
   ]
  },
  {
   "cell_type": "code",
   "execution_count": 232,
   "metadata": {},
   "outputs": [
    {
     "data": {
      "image/svg+xml": [
       "<svg font-family=\"sans-serif\" height=\"426.592\" stroke=\"rgb(0,0,0)\" stroke-linecap=\"round\" stroke-width=\"1\" width=\"447.536\" x=\"0\" xmlns=\"http://www.w3.org/2000/svg\" xmlns:cml=\"http://www.xml-cml.org/schema\" xmlns:xlink=\"http://www.w3.org/1999/xlink\" y=\"0\">\n",
       "<rect fill=\"rgb(255,255,255)\" height=\"100%\" stroke-width=\"0\" width=\"100%\" x=\"0%\" y=\"0%\"/>\n",
       "<line stroke=\"rgb(0,0,0)\" stroke-width=\"1.0\" x1=\"154.5\" x2=\"127.5\" y1=\"386.6\" y2=\"386.6\"/>\n",
       "<line stroke=\"rgb(0,0,0)\" stroke-width=\"1.0\" x1=\"127.5\" x2=\"107.5\" y1=\"386.6\" y2=\"352.0\"/>\n",
       "<line stroke=\"rgb(0,0,0)\" stroke-width=\"1.0\" x1=\"107.5\" x2=\"127.5\" y1=\"352.0\" y2=\"317.3\"/>\n",
       "<line stroke=\"rgb(0,0,0)\" stroke-width=\"1.0\" x1=\"127.5\" x2=\"154.5\" y1=\"317.3\" y2=\"317.3\"/>\n",
       "<line stroke=\"rgb(0,0,0)\" stroke-width=\"1.0\" x1=\"174.0\" x2=\"187.5\" y1=\"306.1\" y2=\"282.7\"/>\n",
       "<line stroke=\"rgb(0,0,0)\" stroke-width=\"1.0\" x1=\"184.9\" x2=\"171.4\" y1=\"284.2\" y2=\"260.8\"/>\n",
       "<line stroke=\"rgb(0,0,0)\" stroke-width=\"1.0\" x1=\"190.1\" x2=\"176.6\" y1=\"281.2\" y2=\"257.8\"/>\n",
       "<line stroke=\"rgb(0,0,0)\" stroke-width=\"1.0\" x1=\"187.5\" x2=\"227.5\" y1=\"282.7\" y2=\"282.7\"/>\n",
       "<line stroke=\"rgb(0,0,0)\" stroke-width=\"1.0\" x1=\"228.3\" x2=\"226.7\" y1=\"288.0\" y2=\"288.0\"/>\n",
       "<line stroke=\"rgb(0,0,0)\" stroke-width=\"1.0\" x1=\"229.0\" x2=\"226.1\" y1=\"292.3\" y2=\"292.3\"/>\n",
       "<line stroke=\"rgb(0,0,0)\" stroke-width=\"1.0\" x1=\"229.6\" x2=\"225.5\" y1=\"296.6\" y2=\"296.6\"/>\n",
       "<line stroke=\"rgb(0,0,0)\" stroke-width=\"1.0\" x1=\"230.3\" x2=\"224.8\" y1=\"300.9\" y2=\"300.9\"/>\n",
       "<line stroke=\"rgb(0,0,0)\" stroke-width=\"1.0\" x1=\"230.9\" x2=\"224.2\" y1=\"305.2\" y2=\"305.2\"/>\n",
       "<line stroke=\"rgb(0,0,0)\" stroke-width=\"1.0\" x1=\"231.5\" x2=\"223.5\" y1=\"309.5\" y2=\"309.5\"/>\n",
       "<line stroke=\"rgb(0,0,0)\" stroke-width=\"1.0\" x1=\"227.5\" x2=\"241.0\" y1=\"282.7\" y2=\"259.3\"/>\n",
       "<line stroke=\"rgb(0,0,0)\" stroke-width=\"1.0\" x1=\"260.5\" x2=\"274.5\" y1=\"248.0\" y2=\"248.0\"/>\n",
       "<line stroke=\"rgb(0,0,0)\" stroke-width=\"1.0\" x1=\"290.5\" x2=\"290.5\" y1=\"261.0\" y2=\"275.0\"/>\n",
       "<line stroke=\"rgb(0,0,0)\" stroke-width=\"1.0\" x1=\"284.5\" x2=\"284.5\" y1=\"261.0\" y2=\"275.0\"/>\n",
       "<line stroke=\"rgb(0,0,0)\" stroke-width=\"1.0\" x1=\"300.5\" x2=\"314.5\" y1=\"248.0\" y2=\"248.0\"/>\n",
       "<line stroke=\"rgb(0,0,0)\" stroke-width=\"1.0\" x1=\"334.0\" x2=\"347.5\" y1=\"259.3\" y2=\"282.7\"/>\n",
       "<line stroke=\"rgb(0,0,0)\" stroke-width=\"1.0\" x1=\"287.5\" x2=\"287.5\" y1=\"235.0\" y2=\"221.0\"/>\n",
       "<line stroke=\"rgb(0,0,0)\" stroke-width=\"1.0\" x1=\"276.3\" x2=\"252.9\" y1=\"201.5\" y2=\"188.0\"/>\n",
       "<line stroke=\"rgb(0,0,0)\" stroke-width=\"1.0\" x1=\"252.9\" x2=\"252.9\" y1=\"188.0\" y2=\"148.0\"/>\n",
       "<line stroke=\"rgb(0,0,0)\" stroke-width=\"1.0\" x1=\"257.9\" x2=\"257.1\" y1=\"150.0\" y2=\"151.4\"/>\n",
       "<line stroke=\"rgb(0,0,0)\" stroke-width=\"1.0\" x1=\"262.0\" x2=\"260.5\" y1=\"151.6\" y2=\"154.1\"/>\n",
       "<line stroke=\"rgb(0,0,0)\" stroke-width=\"1.0\" x1=\"266.0\" x2=\"263.9\" y1=\"153.2\" y2=\"156.8\"/>\n",
       "<line stroke=\"rgb(0,0,0)\" stroke-width=\"1.0\" x1=\"270.0\" x2=\"267.3\" y1=\"154.8\" y2=\"159.5\"/>\n",
       "<line stroke=\"rgb(0,0,0)\" stroke-width=\"1.0\" x1=\"274.1\" x2=\"270.7\" y1=\"156.4\" y2=\"162.2\"/>\n",
       "<line stroke=\"rgb(0,0,0)\" stroke-width=\"1.0\" x1=\"278.1\" x2=\"274.1\" y1=\"158.0\" y2=\"164.9\"/>\n",
       "<polygon fill=\"rgb(0,0,0)\" points=\"239.438924 84.721360 251.955501 60.688563 258.427637 65.390845 \" stroke=\"rgb(0,0,0)\" stroke-width=\"1.000000\"/>\n",
       "<polygon fill=\"rgb(0,0,0)\" points=\"269.164717 111.486584 295.889100 115.964013 293.416964 123.572465 \" stroke=\"rgb(0,0,0)\" stroke-width=\"1.000000\"/>\n",
       "<line stroke=\"rgb(0,0,0)\" stroke-width=\"1.0\" x1=\"269.2\" x2=\"289.2\" y1=\"111.5\" y2=\"93.4\"/>\n",
       "<line stroke=\"rgb(0,0,0)\" stroke-width=\"1.0\" x1=\"239.4\" x2=\"228.5\" y1=\"84.7\" y2=\"60.1\"/>\n",
       "<line stroke=\"rgb(0,0,0)\" stroke-width=\"1.0\" x1=\"199.4\" x2=\"200.7\" y1=\"98.7\" y2=\"97.8\"/>\n",
       "<line stroke=\"rgb(0,0,0)\" stroke-width=\"1.0\" x1=\"195.2\" x2=\"197.5\" y1=\"93.9\" y2=\"92.2\"/>\n",
       "<line stroke=\"rgb(0,0,0)\" stroke-width=\"1.0\" x1=\"190.9\" x2=\"194.3\" y1=\"89.1\" y2=\"86.7\"/>\n",
       "<line stroke=\"rgb(0,0,0)\" stroke-width=\"1.0\" x1=\"186.6\" x2=\"191.0\" y1=\"84.3\" y2=\"81.1\"/>\n",
       "<line stroke=\"rgb(0,0,0)\" stroke-width=\"1.0\" x1=\"182.3\" x2=\"187.8\" y1=\"79.5\" y2=\"75.6\"/>\n",
       "<line stroke=\"rgb(0,0,0)\" stroke-width=\"1.0\" x1=\"178.1\" x2=\"184.5\" y1=\"74.7\" y2=\"70.0\"/>\n",
       "<line stroke=\"rgb(0,0,0)\" stroke-width=\"1.0\" x1=\"181.3\" x2=\"165.4\" y1=\"72.4\" y2=\"50.5\"/>\n",
       "<line stroke=\"rgb(0,0,0)\" stroke-width=\"1.0\" x1=\"177.9\" x2=\"162.0\" y1=\"74.8\" y2=\"53.0\"/>\n",
       "<line stroke=\"rgb(0,0,0)\" stroke-width=\"1.0\" x1=\"184.7\" x2=\"168.8\" y1=\"69.9\" y2=\"48.0\"/>\n",
       "<line stroke=\"rgb(0,0,0)\" stroke-width=\"1.0\" x1=\"204.8\" x2=\"165.0\" y1=\"104.7\" y2=\"108.9\"/>\n",
       "<line stroke=\"rgb(0,0,0)\" stroke-width=\"1.0\" x1=\"79.1\" x2=\"52.7\" y1=\"165.0\" y2=\"159.3\"/>\n",
       "<line stroke=\"rgb(0,0,0)\" stroke-width=\"1.0\" x1=\"227.5\" x2=\"250.9\" y1=\"282.7\" y2=\"296.2\"/>\n",
       "<line stroke=\"rgb(0,0,0)\" stroke-width=\"1.0\" x1=\"107.5\" x2=\"67.5\" y1=\"352.0\" y2=\"352.0\"/>\n",
       "<line stroke=\"rgb(0,0,0)\" stroke-width=\"1.0\" x1=\"67.5\" x2=\"54.0\" y1=\"352.0\" y2=\"375.3\"/>\n",
       "<line stroke=\"rgb(0,0,0)\" stroke-width=\"1.0\" x1=\"252.9\" x2=\"226.0\" y1=\"148.0\" y2=\"145.2\"/>\n",
       "<line stroke=\"rgb(0,0,0)\" stroke-width=\"1.0\" x1=\"210.4\" x2=\"204.8\" y1=\"131.1\" y2=\"104.7\"/>\n",
       "<line stroke=\"rgb(0,0,0)\" stroke-width=\"1.0\" x1=\"204.8\" x2=\"239.4\" y1=\"104.7\" y2=\"84.7\"/>\n",
       "<line stroke=\"rgb(0,0,0)\" stroke-width=\"1.0\" x1=\"239.4\" x2=\"269.2\" y1=\"84.7\" y2=\"111.5\"/>\n",
       "<line stroke=\"rgb(0,0,0)\" stroke-width=\"1.0\" x1=\"269.2\" x2=\"252.9\" y1=\"111.5\" y2=\"148.0\"/>\n",
       "<line stroke=\"rgb(0,0,0)\" stroke-width=\"1.0\" x1=\"165.0\" x2=\"138.3\" y1=\"108.9\" y2=\"79.2\"/>\n",
       "<line stroke=\"rgb(0,0,0)\" stroke-width=\"1.0\" x1=\"155.7\" x2=\"136.9\" y1=\"109.3\" y2=\"88.5\"/>\n",
       "<line stroke=\"rgb(0,0,0)\" stroke-width=\"1.0\" x1=\"138.3\" x2=\"101.7\" y1=\"79.2\" y2=\"95.4\"/>\n",
       "<line stroke=\"rgb(0,0,0)\" stroke-width=\"1.0\" x1=\"101.7\" x2=\"105.9\" y1=\"95.4\" y2=\"135.2\"/>\n",
       "<line stroke=\"rgb(0,0,0)\" stroke-width=\"1.0\" x1=\"109.5\" x2=\"112.4\" y1=\"100.7\" y2=\"128.5\"/>\n",
       "<line stroke=\"rgb(0,0,0)\" stroke-width=\"1.0\" x1=\"105.9\" x2=\"132.3\" y1=\"135.2\" y2=\"140.8\"/>\n",
       "<line stroke=\"rgb(0,0,0)\" stroke-width=\"1.0\" x1=\"151.5\" x2=\"165.0\" y1=\"132.3\" y2=\"108.9\"/>\n",
       "<line stroke=\"rgb(0,0,0)\" stroke-width=\"1.0\" x1=\"347.5\" x2=\"387.5\" y1=\"282.7\" y2=\"282.7\"/>\n",
       "<line stroke=\"rgb(0,0,0)\" stroke-width=\"1.0\" x1=\"353.5\" x2=\"381.5\" y1=\"289.9\" y2=\"289.9\"/>\n",
       "<line stroke=\"rgb(0,0,0)\" stroke-width=\"1.0\" x1=\"387.5\" x2=\"407.5\" y1=\"282.7\" y2=\"317.3\"/>\n",
       "<line stroke=\"rgb(0,0,0)\" stroke-width=\"1.0\" x1=\"407.5\" x2=\"387.5\" y1=\"317.3\" y2=\"352.0\"/>\n",
       "<line stroke=\"rgb(0,0,0)\" stroke-width=\"1.0\" x1=\"398.3\" x2=\"384.3\" y1=\"318.9\" y2=\"343.2\"/>\n",
       "<line stroke=\"rgb(0,0,0)\" stroke-width=\"1.0\" x1=\"387.5\" x2=\"347.5\" y1=\"352.0\" y2=\"352.0\"/>\n",
       "<line stroke=\"rgb(0,0,0)\" stroke-width=\"1.0\" x1=\"347.5\" x2=\"327.5\" y1=\"352.0\" y2=\"317.3\"/>\n",
       "<line stroke=\"rgb(0,0,0)\" stroke-width=\"1.0\" x1=\"350.8\" x2=\"336.8\" y1=\"343.2\" y2=\"318.9\"/>\n",
       "<line stroke=\"rgb(0,0,0)\" stroke-width=\"1.0\" x1=\"327.5\" x2=\"347.5\" y1=\"317.3\" y2=\"282.7\"/>\n",
       "<line stroke=\"rgb(0,0,0)\" stroke-width=\"1.0\" x1=\"104.2\" x2=\"130.6\" y1=\"205.7\" y2=\"211.3\"/>\n",
       "<line stroke=\"rgb(0,0,0)\" stroke-width=\"1.0\" x1=\"130.6\" x2=\"148.5\" y1=\"211.3\" y2=\"191.4\"/>\n",
       "<line stroke=\"rgb(0,0,0)\" stroke-width=\"1.0\" x1=\"129.3\" x2=\"141.9\" y1=\"202.0\" y2=\"188.1\"/>\n",
       "<line stroke=\"rgb(0,0,0)\" stroke-width=\"1.0\" x1=\"153.4\" x2=\"149.0\" y1=\"169.2\" y2=\"155.9\"/>\n",
       "<line stroke=\"rgb(0,0,0)\" stroke-width=\"1.0\" x1=\"105.9\" x2=\"79.1\" y1=\"135.2\" y2=\"165.0\"/>\n",
       "<line stroke=\"rgb(0,0,0)\" stroke-width=\"1.0\" x1=\"79.1\" x2=\"87.4\" y1=\"165.0\" y2=\"190.4\"/>\n",
       "<line stroke=\"rgb(0,0,0)\" stroke-width=\"1.0\" x1=\"87.8\" x2=\"93.6\" y1=\"168.4\" y2=\"186.3\"/>\n",
       "<text fill=\"rgb(102,102,102)\" font-size=\"16\" stroke=\"rgb(102,102,102)\" stroke-width=\"1\" x=\"163.536268\" y=\"394.592467\">CH</text>\n",
       "<text fill=\"rgb(102,102,102)\" font-size=\"13\" stroke=\"rgb(102,102,102)\" stroke-width=\"1\" x=\"187.536268\" y=\"398.272467\">3</text>\n",
       "<text fill=\"rgb(255,12,12)\" font-size=\"16\" stroke=\"rgb(255,12,12)\" stroke-width=\"1\" x=\"161.536268\" y=\"325.310434\">O</text>\n",
       "<text fill=\"rgb(255,12,12)\" font-size=\"16\" stroke=\"rgb(255,12,12)\" stroke-width=\"1\" x=\"161.536268\" y=\"256.028402\">O</text>\n",
       "<text fill=\"rgb(191,191,191)\" font-size=\"16\" stroke=\"rgb(191,191,191)\" stroke-width=\"1\" x=\"221.536268\" y=\"330.669418\">H</text>\n",
       "<text fill=\"rgb(12,12,255)\" font-size=\"16\" stroke=\"rgb(12,12,255)\" stroke-width=\"1\" x=\"241.536268\" y=\"256.028402\">N</text>\n",
       "<text fill=\"rgb(12,12,255)\" font-size=\"16\" stroke=\"rgb(12,12,255)\" stroke-width=\"1\" x=\"241.536268\" y=\"240.028402\">H</text>\n",
       "<text fill=\"rgb(255,127,0)\" font-size=\"16\" stroke=\"rgb(255,127,0)\" stroke-width=\"1\" x=\"281.536268\" y=\"256.028402\">P</text>\n",
       "<text fill=\"rgb(255,12,12)\" font-size=\"16\" stroke=\"rgb(255,12,12)\" stroke-width=\"1\" x=\"281.536268\" y=\"296.028402\">O</text>\n",
       "<text fill=\"rgb(255,12,12)\" font-size=\"16\" stroke=\"rgb(255,12,12)\" stroke-width=\"1\" x=\"321.536268\" y=\"256.028402\">O</text>\n",
       "<text fill=\"rgb(255,12,12)\" font-size=\"16\" stroke=\"rgb(255,12,12)\" stroke-width=\"1\" x=\"281.536268\" y=\"216.028402\">O</text>\n",
       "<text fill=\"rgb(191,191,191)\" font-size=\"16\" stroke=\"rgb(191,191,191)\" stroke-width=\"1\" x=\"281.536268\" y=\"176.028402\">H</text>\n",
       "<text fill=\"rgb(255,12,12)\" font-size=\"16\" stroke=\"rgb(255,12,12)\" stroke-width=\"1\" x=\"207.114376\" y=\"151.847264\">O</text>\n",
       "<text fill=\"rgb(191,191,191)\" font-size=\"16\" stroke=\"rgb(191,191,191)\" stroke-width=\"1\" x=\"256.950334\" y=\"60.360680\">H</text>\n",
       "<text fill=\"rgb(191,191,191)\" font-size=\"16\" stroke=\"rgb(191,191,191)\" stroke-width=\"1\" x=\"301.206978\" y=\"131.847264\">H</text>\n",
       "<text fill=\"rgb(255,12,12)\" font-size=\"16\" stroke=\"rgb(255,12,12)\" stroke-width=\"1\" x=\"292.890510\" y=\"92.721360\">OH</text>\n",
       "<text fill=\"rgb(255,12,12)\" font-size=\"16\" stroke=\"rgb(255,12,12)\" stroke-width=\"1\" x=\"205.169459\" y=\"56.179541\">HO</text>\n",
       "<text fill=\"rgb(12,12,255)\" font-size=\"16\" stroke=\"rgb(12,12,255)\" stroke-width=\"1\" x=\"151.775088\" y=\"48.000000\">N</text>\n",
       "<text fill=\"rgb(12,12,255)\" font-size=\"16\" stroke=\"rgb(12,12,255)\" stroke-width=\"1\" x=\"139.017032\" y=\"151.543514\">N</text>\n",
       "<text fill=\"rgb(12,12,255)\" font-size=\"16\" stroke=\"rgb(12,12,255)\" stroke-width=\"1\" x=\"151.377712\" y=\"189.585775\">N</text>\n",
       "<text fill=\"rgb(12,12,255)\" font-size=\"16\" stroke=\"rgb(12,12,255)\" stroke-width=\"1\" x=\"85.486584\" y=\"210.995100\">N</text>\n",
       "<text fill=\"rgb(12,12,255)\" font-size=\"16\" stroke=\"rgb(12,12,255)\" stroke-width=\"1\" x=\"14.000000\" y=\"164.636372\">H</text>\n",
       "<text fill=\"rgb(12,12,255)\" font-size=\"13\" stroke=\"rgb(12,12,255)\" stroke-width=\"1\" x=\"26.000000\" y=\"168.316372\">2</text>\n",
       "<text fill=\"rgb(12,12,255)\" font-size=\"16\" stroke=\"rgb(12,12,255)\" stroke-width=\"1\" x=\"32.500000\" y=\"164.636372\">N</text>\n",
       "<text fill=\"rgb(102,102,102)\" font-size=\"16\" stroke=\"rgb(102,102,102)\" stroke-width=\"1\" x=\"258.177284\" y=\"310.669418\">CH</text>\n",
       "<text fill=\"rgb(102,102,102)\" font-size=\"13\" stroke=\"rgb(102,102,102)\" stroke-width=\"1\" x=\"282.177284\" y=\"314.349418\">3</text>\n",
       "<text fill=\"rgb(102,102,102)\" font-size=\"16\" stroke=\"rgb(102,102,102)\" stroke-width=\"1\" x=\"21.536268\" y=\"394.592467\">H</text>\n",
       "<text fill=\"rgb(102,102,102)\" font-size=\"13\" stroke=\"rgb(102,102,102)\" stroke-width=\"1\" x=\"33.536268\" y=\"398.272467\">3</text>\n",
       "<text fill=\"rgb(102,102,102)\" font-size=\"16\" stroke=\"rgb(102,102,102)\" stroke-width=\"1\" x=\"40.036268\" y=\"394.592467\">C</text>\n",
       "<text fill=\"black\" font-family=\"sans-serif\" font-size=\"18.000000\" x=\"10.000000\" y=\"20.000000\"/>\n",
       "<title> - OBDepict</title>\n",
       "</svg>"
      ],
      "text/plain": [
       "<IPython.core.display.SVG object>"
      ]
     },
     "metadata": {},
     "output_type": "display_data"
    }
   ],
   "source": [
    "# Lets visualize better using SVG format \n",
    "from IPython.display import SVG, display\n",
    "display(SVG('remdes.svg'))"
   ]
  },
  {
   "cell_type": "code",
   "execution_count": 233,
   "metadata": {},
   "outputs": [
    {
     "name": "stdout",
     "output_type": "stream",
     "text": [
      "@<TRIPOS>MOLECULE\n",
      "*****\n",
      " 77 80 0 0 0\n",
      "SMALL\n",
      "GASTEIGER\n",
      "\n",
      "@<TRIPOS>ATOM\n",
      "      1 C           2.8872    7.9625   -1.4716 C.3     1  LIG1        0.0000\n",
      "      2 C           2.4210    6.5510   -1.1485 C.3     1  LIG1        0.0000\n",
      "      3 C           2.9438    6.0078    0.1975 C.3     1  LIG1        0.0000\n",
      "      4 C           2.4523    4.5637    0.4181 C.3     1  LIG1        0.2800\n",
      "      5 O           1.0182    4.5238    0.4597 O.3     1  LIG1       -0.4300\n",
      "      6 C           0.4162    3.6943   -0.4343 C.2     1  LIG1        0.6590\n",
      "      7 O           0.9828    3.0459   -1.3096 O.2     1  LIG1       -0.5700\n",
      "      8 C          -1.0963    3.5913   -0.2201 C.3     1  LIG1        0.3310\n",
      "      9 H          -1.5237    3.3020   -1.1887 H       1  LIG1        0.0000\n",
      "     10 N          -1.4192    2.5363    0.7633 N.3     1  LIG1       -0.8979\n",
      "     11 P          -0.8258    0.9416    0.2405 P.3     1  LIG1        1.5103\n",
      "     12 O           0.5210    1.2220    0.9232 O.2     1  LIG1       -0.7000\n",
      "     13 O          -1.7840    0.2012    1.3984 O.3     1  LIG1       -0.3537\n",
      "     14 C          -3.1071   -0.1334    1.2365 C.ar    1  LIG1        0.0825\n",
      "     15 C          -3.9428   -0.1482    2.3654 C.ar    1  LIG1       -0.1500\n",
      "     16 C          -5.3115   -0.4326    2.2358 C.ar    1  LIG1       -0.1500\n",
      "     17 C          -5.8459   -0.7008    0.9781 C.ar    1  LIG1       -0.1500\n",
      "     18 C          -5.0035   -0.7378   -0.1329 C.ar    1  LIG1       -0.1500\n",
      "     19 C          -3.6353   -0.4751   -0.0006 C.ar    1  LIG1       -0.1500\n",
      "     20 O          -0.2492   -0.6083   -0.2676 O.3     1  LIG1       -0.5512\n",
      "     21 C           0.7394   -0.6604   -1.2803 C.3     1  LIG1        0.2800\n",
      "     22 C           0.3238   -0.0502   -2.6182 C.3     1  LIG1        0.2800\n",
      "     23 H           0.2033    1.0308   -2.5026 H       1  LIG1        0.0000\n",
      "     24 O           1.4069   -0.2541   -3.5499 O.3     1  LIG1       -0.5600\n",
      "     25 C           0.8424   -0.5452   -4.8455 C.3     1  LIG1        0.6600\n",
      "     26 C          -0.4354   -1.3445   -4.5071 C.3     1  LIG1        0.2800\n",
      "     27 H          -0.1725   -2.3763   -4.2356 H       1  LIG1        0.0000\n",
      "     28 C          -0.9397   -0.6481   -3.2465 C.3     1  LIG1        0.2800\n",
      "     29 H          -1.4873   -1.3298   -2.5912 H       1  LIG1        0.0000\n",
      "     30 O          -1.8575    0.3989   -3.5909 O.3     1  LIG1       -0.6800\n",
      "     31 O          -1.4662   -1.4110   -5.4952 O.3     1  LIG1       -0.6800\n",
      "     32 C           0.5812    0.7069   -5.5743 C.1     1  LIG1        0.3571\n",
      "     33 N           0.3747    1.7239   -6.1428 N.1     1  LIG1       -0.5571\n",
      "     34 C           1.8708   -1.3862   -5.5552 C.ar    1  LIG1       -0.3316\n",
      "     35 C           3.1211   -1.8228   -5.1390 C.ar    1  LIG1       -0.1500\n",
      "     36 C           3.6772   -2.6044   -6.1773 C.ar    1  LIG1       -0.1500\n",
      "     37 C           2.7557   -2.6121   -7.2004 C.ar    1  LIG1       -0.2366\n",
      "     38 N           1.6706   -1.8818   -6.8199 N.ar    1  LIG1        0.5052\n",
      "     39 N           0.5617   -1.7250   -7.5657 N.ar    1  LIG1       -0.6520\n",
      "     40 C           0.6318   -2.3018   -8.7289 C.ar    1  LIG1        0.6010\n",
      "     41 N           1.6690   -3.0550   -9.2200 N.ar    1  LIG1       -0.6610\n",
      "     42 C           2.7241   -3.2270   -8.4849 C.ar    1  LIG1        0.5850\n",
      "     43 N           3.7460   -3.9785   -8.9861 N.pl3   1  LIG1       -0.8500\n",
      "     44 C          -1.7046    4.9346    0.1599 C.3     1  LIG1        0.0000\n",
      "     45 C           4.4758    6.0842    0.3696 C.3     1  LIG1        0.0000\n",
      "     46 C           5.2944    5.3272   -0.6695 C.3     1  LIG1        0.0000\n",
      "     47 H           2.3860    8.3248   -2.3752 H       1  LIG1        0.0000\n",
      "     48 H           3.9641    7.9960   -1.6586 H       1  LIG1        0.0000\n",
      "     49 H           2.6529    8.6515   -0.6544 H       1  LIG1        0.0000\n",
      "     50 H           2.7067    5.8797   -1.9666 H       1  LIG1        0.0000\n",
      "     51 H           1.3237    6.5618   -1.1251 H       1  LIG1        0.0000\n",
      "     52 H           2.4976    6.6343    0.9839 H       1  LIG1        0.0000\n",
      "     53 H           2.8098    4.1881    1.3836 H       1  LIG1        0.0000\n",
      "     54 H           2.8559    3.9054   -0.3563 H       1  LIG1        0.0000\n",
      "     55 H          -2.4253    2.4605    0.8610 H       1  LIG1        0.3600\n",
      "     56 H          -3.5455    0.0667    3.3560 H       1  LIG1        0.1500\n",
      "     57 H          -5.9645   -0.4407    3.1079 H       1  LIG1        0.1500\n",
      "     58 H          -6.9112   -0.8920    0.8621 H       1  LIG1        0.1500\n",
      "     59 H          -5.4132   -0.9769   -1.1107 H       1  LIG1        0.1500\n",
      "     60 H          -2.9988   -0.5691   -0.8706 H       1  LIG1        0.1500\n",
      "     61 H           0.9791   -1.7194   -1.4329 H       1  LIG1        0.0000\n",
      "     62 H           1.6660   -0.1999   -0.9222 H       1  LIG1        0.0000\n",
      "     63 H          -2.3372    0.0782   -4.3877 H       1  LIG1        0.4000\n",
      "     64 H          -1.0518   -1.7236   -6.3291 H       1  LIG1        0.4000\n",
      "     65 H           3.5731   -1.6046   -4.1776 H       1  LIG1        0.1500\n",
      "     66 H           4.6337   -3.1111   -6.1630 H       1  LIG1        0.1500\n",
      "     67 H          -0.2347   -2.1944   -9.4038 H       1  LIG1        0.0600\n",
      "     68 H           3.6696   -4.1174   -9.9873 H       1  LIG1        0.4000\n",
      "     69 H           4.6760   -3.7136   -8.6866 H       1  LIG1        0.4000\n",
      "     70 H          -1.4837    5.6774   -0.6162 H       1  LIG1        0.0000\n",
      "     71 H          -1.3017    5.3168    1.1037 H       1  LIG1        0.0000\n",
      "     72 H          -2.7924    4.8644    0.2558 H       1  LIG1        0.0000\n",
      "     73 H           4.7319    5.6923    1.3621 H       1  LIG1        0.0000\n",
      "     74 H           4.7994    7.1318    0.3738 H       1  LIG1        0.0000\n",
      "     75 H           4.9221    4.3142   -0.8403 H       1  LIG1        0.0000\n",
      "     76 H           6.3315    5.2380   -0.3290 H       1  LIG1        0.0000\n",
      "     77 H           5.3048    5.8554   -1.6273 H       1  LIG1        0.0000\n",
      "@<TRIPOS>BOND\n",
      "     1     1     2    1\n",
      "     2     2     3    1\n",
      "     3     3     4    1\n",
      "     4     4     5    1\n",
      "     5     5     6    1\n",
      "     6     6     7    2\n",
      "     7     6     8    1\n",
      "     8     8     9    1\n",
      "     9     8    10    1\n",
      "    10    10    11    1\n",
      "    11    11    12    2\n",
      "    12    11    13    1\n",
      "    13    13    14    1\n",
      "    14    14    15   ar\n",
      "    15    15    16   ar\n",
      "    16    16    17   ar\n",
      "    17    17    18   ar\n",
      "    18    18    19   ar\n",
      "    19    14    19   ar\n",
      "    20    11    20    1\n",
      "    21    20    21    1\n",
      "    22    21    22    1\n",
      "    23    22    23    1\n",
      "    24    22    24    1\n",
      "    25    24    25    1\n",
      "    26    25    26    1\n",
      "    27    26    27    1\n",
      "    28    26    28    1\n",
      "    29    28    29    1\n",
      "    30    22    28    1\n",
      "    31    28    30    1\n",
      "    32    26    31    1\n",
      "    33    32    33    3\n",
      "    34    34    35   ar\n",
      "    35    35    36   ar\n",
      "    36    36    37   ar\n",
      "    37    37    38   ar\n",
      "    38    34    38   ar\n",
      "    39    38    39   ar\n",
      "    40    39    40   ar\n",
      "    41    40    41   ar\n",
      "    42    41    42   ar\n",
      "    43    37    42   ar\n",
      "    44    42    43    1\n",
      "    45     8    44    1\n",
      "    46     3    45    1\n",
      "    47    45    46    1\n",
      "    48    25    34    1\n",
      "    49    25    32    1\n",
      "    50     1    47    1\n",
      "    51     1    48    1\n",
      "    52     1    49    1\n",
      "    53     2    50    1\n",
      "    54     2    51    1\n",
      "    55     3    52    1\n",
      "    56     4    53    1\n",
      "    57     4    54    1\n",
      "    58    10    55    1\n",
      "    59    15    56    1\n",
      "    60    16    57    1\n",
      "    61    17    58    1\n",
      "    62    18    59    1\n",
      "    63    19    60    1\n",
      "    64    21    61    1\n",
      "    65    21    62    1\n",
      "    66    30    63    1\n",
      "    67    31    64    1\n",
      "    68    35    65    1\n",
      "    69    36    66    1\n",
      "    70    40    67    1\n",
      "    71    43    68    1\n",
      "    72    43    69    1\n",
      "    73    44    70    1\n",
      "    74    44    71    1\n",
      "    75    44    72    1\n",
      "    76    45    73    1\n",
      "    77    45    74    1\n",
      "    78    46    75    1\n",
      "    79    46    76    1\n",
      "    80    46    77    1\n"
     ]
    }
   ],
   "source": [
    "# Now, lets look at the data structure into mol2 file that have spatial information of x,y,z coordinates for each atom, the atom types \n",
    "# and charges (last column):\n",
    "!cat remdes.mol2"
   ]
  },
  {
   "cell_type": "markdown",
   "metadata": {},
   "source": [
    "In these example, we see that this molecule has 77 atoms and 80 bonds. As well, the most electronegative atom is the 10th atom, which is Nitrogen (N). It has the spatial coordinates xyz:-1.5911    2.3940    0.9278, is type 3 N.3, i.e Nitrogen sp3 and has a charge of -0.8979. If summ of all atom charges, result will be 0 as molecule has neutral charge.\n",
    "\n",
    "Lets explore some calculated molecular properties appending them to the title : \n",
    "\n",
    "+ molecular weight (MW)\n",
    "+ logP\n",
    "+ Hydrogen Bond Donors (HBD)\n",
    "+ Hydrogen Bond Acceptors (HBA)\n",
    "+ Total Polar Surface Area (TPSA)\n",
    "\n",
    "(https://open-babel.readthedocs.io/en/latest/Descriptors/descriptors.html)"
   ]
  },
  {
   "cell_type": "code",
   "execution_count": 234,
   "metadata": {},
   "outputs": [
    {
     "name": "stderr",
     "output_type": "stream",
     "text": [
      "1 molecule converted\n"
     ]
    },
    {
     "name": "stdout",
     "output_type": "stream",
     "text": [
      "CCC(COC(=O)[C@@H](NP(=O)(Oc1ccccc1)OC[C@H]1O[C@@]([C@@H]([C@@H]1O)O)(C#N)c1ccc2n1ncnc2N)C)CC\t602.576 3.28428 4 14 213.36\n"
     ]
    }
   ],
   "source": [
    "!obabel -ismi REMDESIVIR.smi -osmi -O remdesivprop.smi --append \"MW\" \"logP\" \"HBD\" \"HBA2\" \"TPSA\" \n",
    "!cat remdesivprop.smi"
   ]
  },
  {
   "cell_type": "markdown",
   "metadata": {},
   "source": [
    "Now, lets visualize 3D structure by using available databases (LigandBox, Zinc, KEGG,...). The KEGG code is available through wikipedia provided link : D11472 (https://www.kegg.jp/entry/D11472). In compound information there are some links to other databases like pubchem where 3D structure of a conformation is available. Note that there are a lot of possible 3D structures for the same compound, so it has rotatable bonds and in fact is not a rigid structure, it moves and change conformation. Howerver, the minimal conformation energy is tipically selected as a valid structure."
   ]
  },
  {
   "cell_type": "code",
   "execution_count": 235,
   "metadata": {},
   "outputs": [
    {
     "data": {
      "text/html": [
       "\n",
       "        <iframe\n",
       "            width=\"900\"\n",
       "            height=\"500\"\n",
       "            src=\"https://pubchem.ncbi.nlm.nih.gov/compound/121304016#section=3D-Conformer\"\n",
       "            frameborder=\"0\"\n",
       "            allowfullscreen\n",
       "        ></iframe>\n",
       "        "
      ],
      "text/plain": [
       "<IPython.lib.display.IFrame at 0x29772b88908>"
      ]
     },
     "execution_count": 235,
     "metadata": {},
     "output_type": "execute_result"
    }
   ],
   "source": [
    "IFrame(src='https://pubchem.ncbi.nlm.nih.gov/compound/121304016#section=3D-Conformer', width=900, height=500)"
   ]
  },
  {
   "cell_type": "markdown",
   "metadata": {},
   "source": [
    "Now, how we can search for posible analogues, or candidate drugs to have potentially similar effects by screening a \n",
    "large database of compounds like ZINC database that contains millions of different structures. \n",
    "\n",
    "To rapid search the first step is obtaining efficient molecular descriptors, like the properties described (Molecular Weight, \n",
    "Hydrogen Bond Donors, Hydrogen Bond acceptors,...). In fact the Lipinski Rule of Five is based in this fact (https://en.wikipedia.org/wiki/Lipinski%27s_rule_of_five)\n",
    "\n",
    "There are also structure based descriptors (like USR descriptors, https://www.ncbi.nlm.nih.gov/pubmed/17342716)\n",
    "\n",
    "And descriptors that accounts for structure and charge:\n",
    "\n",
    "+ https://www.nature.com/articles/srep43738 (PED descriptors) \n",
    "+ https://www.ncbi.nlm.nih.gov/pubmed/20614163 (ElectroShape descriptors)\n",
    "\n",
    "Threre are of course many other examples in the literature.\n",
    "\n",
    "But first of all, how this descriptors are calculated? Let's focus on PED descriptors. The recipe for calculation of PED is based on atom pair energy distribution and the search for the tails of that distribution. \n",
    "\n",
    "We will take only 12 dymension vector for description of a compound. Then:\n",
    "\n",
    "+ The Energy between pairs Eij of a molecule is searched and ranked. ($E_{i,j}=q_{i}q_{j}/r_{i,j}$)\n",
    "+ The top 6 bigger and lower (i.e. negative) are taken.\n",
    "\n",
    "Where $q_{i}$ is the charge of atom i and $q_{j}$ is the charge of 'j' atom. rij is the Euclidian distance between i and j atoms obtained by using respective coordinates (xi,yi,zi) and (xj,yj,zj) that can be obtained using mol2 file information."
   ]
  },
  {
   "cell_type": "code",
   "execution_count": 236,
   "metadata": {},
   "outputs": [
    {
     "name": "stdout",
     "output_type": "stream",
     "text": [
      "\n"
     ]
    }
   ],
   "source": [
    "file='remdes.mol2'\n",
    "fat = open(\"remdes_atoms.mol2\", 'w')\n",
    "fat.write(\"Id Atype x y z Otype Str1 Str2 Charge\\n\")\n",
    "with open(file) as f:\n",
    "    for line in f:\n",
    "        if line.rstrip() == \"@<TRIPOS>ATOM\":\n",
    "            print(\"\")\n",
    "            for line in f:\n",
    "                if line.rstrip() == \"@<TRIPOS>BOND\":\n",
    "                    break\n",
    "                fat.write(line.rstrip()+'\\n')\n",
    "fat.close()"
   ]
  },
  {
   "cell_type": "code",
   "execution_count": 237,
   "metadata": {},
   "outputs": [],
   "source": [
    "import pandas as pd\n",
    "df=pd.read_csv('remdes_atoms.mol2', delimiter=r\"\\s+\")"
   ]
  },
  {
   "cell_type": "code",
   "execution_count": 238,
   "metadata": {},
   "outputs": [
    {
     "data": {
      "text/html": [
       "<div>\n",
       "<style scoped>\n",
       "    .dataframe tbody tr th:only-of-type {\n",
       "        vertical-align: middle;\n",
       "    }\n",
       "\n",
       "    .dataframe tbody tr th {\n",
       "        vertical-align: top;\n",
       "    }\n",
       "\n",
       "    .dataframe thead th {\n",
       "        text-align: right;\n",
       "    }\n",
       "</style>\n",
       "<table border=\"1\" class=\"dataframe\">\n",
       "  <thead>\n",
       "    <tr style=\"text-align: right;\">\n",
       "      <th></th>\n",
       "      <th>Id</th>\n",
       "      <th>Atype</th>\n",
       "      <th>x</th>\n",
       "      <th>y</th>\n",
       "      <th>z</th>\n",
       "      <th>Otype</th>\n",
       "      <th>Str1</th>\n",
       "      <th>Str2</th>\n",
       "      <th>Charge</th>\n",
       "    </tr>\n",
       "  </thead>\n",
       "  <tbody>\n",
       "    <tr>\n",
       "      <th>0</th>\n",
       "      <td>1</td>\n",
       "      <td>C</td>\n",
       "      <td>2.8872</td>\n",
       "      <td>7.9625</td>\n",
       "      <td>-1.4716</td>\n",
       "      <td>C.3</td>\n",
       "      <td>1</td>\n",
       "      <td>LIG1</td>\n",
       "      <td>0.00</td>\n",
       "    </tr>\n",
       "    <tr>\n",
       "      <th>1</th>\n",
       "      <td>2</td>\n",
       "      <td>C</td>\n",
       "      <td>2.4210</td>\n",
       "      <td>6.5510</td>\n",
       "      <td>-1.1485</td>\n",
       "      <td>C.3</td>\n",
       "      <td>1</td>\n",
       "      <td>LIG1</td>\n",
       "      <td>0.00</td>\n",
       "    </tr>\n",
       "    <tr>\n",
       "      <th>2</th>\n",
       "      <td>3</td>\n",
       "      <td>C</td>\n",
       "      <td>2.9438</td>\n",
       "      <td>6.0078</td>\n",
       "      <td>0.1975</td>\n",
       "      <td>C.3</td>\n",
       "      <td>1</td>\n",
       "      <td>LIG1</td>\n",
       "      <td>0.00</td>\n",
       "    </tr>\n",
       "    <tr>\n",
       "      <th>3</th>\n",
       "      <td>4</td>\n",
       "      <td>C</td>\n",
       "      <td>2.4523</td>\n",
       "      <td>4.5637</td>\n",
       "      <td>0.4181</td>\n",
       "      <td>C.3</td>\n",
       "      <td>1</td>\n",
       "      <td>LIG1</td>\n",
       "      <td>0.28</td>\n",
       "    </tr>\n",
       "    <tr>\n",
       "      <th>4</th>\n",
       "      <td>5</td>\n",
       "      <td>O</td>\n",
       "      <td>1.0182</td>\n",
       "      <td>4.5238</td>\n",
       "      <td>0.4597</td>\n",
       "      <td>O.3</td>\n",
       "      <td>1</td>\n",
       "      <td>LIG1</td>\n",
       "      <td>-0.43</td>\n",
       "    </tr>\n",
       "  </tbody>\n",
       "</table>\n",
       "</div>"
      ],
      "text/plain": [
       "   Id Atype       x       y       z Otype  Str1  Str2  Charge\n",
       "0   1     C  2.8872  7.9625 -1.4716   C.3     1  LIG1    0.00\n",
       "1   2     C  2.4210  6.5510 -1.1485   C.3     1  LIG1    0.00\n",
       "2   3     C  2.9438  6.0078  0.1975   C.3     1  LIG1    0.00\n",
       "3   4     C  2.4523  4.5637  0.4181   C.3     1  LIG1    0.28\n",
       "4   5     O  1.0182  4.5238  0.4597   O.3     1  LIG1   -0.43"
      ]
     },
     "execution_count": 238,
     "metadata": {},
     "output_type": "execute_result"
    }
   ],
   "source": [
    "df.head()"
   ]
  },
  {
   "cell_type": "markdown",
   "metadata": {},
   "source": [
    "Now we've read all molecule file in dataframe, lets compute descriptor pairwise"
   ]
  },
  {
   "cell_type": "code",
   "execution_count": 239,
   "metadata": {},
   "outputs": [],
   "source": [
    "Eij=[]\n",
    "for index, row in df.iterrows():\n",
    "#    print(row['x'], row['y'],row['z'],row['Charge'])\n",
    "    for index2, row2 in df.iterrows():\n",
    "        if(index2>index):\n",
    "            dij=((row['x']-row2['x'])**2+(row['y']-row2['y'])**2+(row['z']-row2['z'])**2)**0.5\n",
    "            if(dij > 1.0):\n",
    "                Eij.append(row['Charge']*row2['Charge']/dij)"
   ]
  },
  {
   "cell_type": "code",
   "execution_count": 240,
   "metadata": {},
   "outputs": [
    {
     "data": {
      "text/plain": [
       "2924"
      ]
     },
     "execution_count": 240,
     "metadata": {},
     "output_type": "execute_result"
    }
   ],
   "source": [
    "len(Eij)"
   ]
  },
  {
   "cell_type": "code",
   "execution_count": 241,
   "metadata": {},
   "outputs": [],
   "source": [
    "PED=[]\n",
    "Eij.sort(reverse = True)\n",
    "PED.extend(Eij[0:6])\n",
    "PED.extend(Eij[len(Eij)-6:len(Eij)])"
   ]
  },
  {
   "cell_type": "markdown",
   "metadata": {},
   "source": [
    "Then we have obtained the PED vector descriptor of the Remdesivir:"
   ]
  },
  {
   "cell_type": "code",
   "execution_count": 242,
   "metadata": {},
   "outputs": [
    {
     "data": {
      "text/plain": [
       "[0.3216421666780872,\n",
       " 0.26758489168640537,\n",
       " 0.24587996394853576,\n",
       " 0.23728283010959156,\n",
       " 0.18494579696448366,\n",
       " 0.18001409212665964,\n",
       " -0.3354141047951057,\n",
       " -0.33586537711949255,\n",
       " -0.3645785258769193,\n",
       " -0.4812069618356809,\n",
       " -0.6883931459462215,\n",
       " -0.7618396131247185]"
      ]
     },
     "execution_count": 242,
     "metadata": {},
     "output_type": "execute_result"
    }
   ],
   "source": [
    "PED"
   ]
  },
  {
   "cell_type": "markdown",
   "metadata": {},
   "source": [
    "We can compare the similarity of this molecule with other molecule, like, for instance, Hydroxychloroquine: https://en.wikipedia.org/wiki/Hydroxychloroquine , https://www.kegg.jp/entry/D08050\n",
    "\n",
    "First of all, compute descriptors in the same way, with previous computation of structure:\n"
   ]
  },
  {
   "cell_type": "code",
   "execution_count": 243,
   "metadata": {},
   "outputs": [
    {
     "name": "stderr",
     "output_type": "stream",
     "text": [
      "1 molecule converted\n"
     ]
    }
   ],
   "source": [
    "!obabel -ismi Hydroxcl.smi -omol2 -O hydroxcl.mol2 --gen3d --partialcharge mmff94"
   ]
  },
  {
   "cell_type": "code",
   "execution_count": 244,
   "metadata": {},
   "outputs": [
    {
     "name": "stdout",
     "output_type": "stream",
     "text": [
      "\n"
     ]
    }
   ],
   "source": [
    "import pandas as pd\n",
    "\n",
    "file='hydroxcl.mol2'\n",
    "fat = open(\"hydroxcl_atoms.mol2\", 'w')\n",
    "fat.write(\"Id Atype x y z Otype Str1 Str2 Charge\\n\")\n",
    "with open(file) as f:\n",
    "    for line in f:\n",
    "        if line.rstrip() == \"@<TRIPOS>ATOM\":\n",
    "            print(\"\")\n",
    "            for line in f:\n",
    "                if line.rstrip() == \"@<TRIPOS>BOND\":\n",
    "                    break\n",
    "                fat.write(line.rstrip()+'\\n')\n",
    "fat.close()\n",
    "\n",
    "df=pd.read_csv('hydroxcl_atoms.mol2', delimiter=r\"\\s+\")\n",
    "Eij=[]\n",
    "for index, row in df.iterrows():\n",
    "#    print(row['x'], row['y'],row['z'],row['Charge'])\n",
    "    for index2, row2 in df.iterrows():\n",
    "        if(index2>index):\n",
    "            dij=((row['x']-row2['x'])**2+(row['y']-row2['y'])**2+(row['z']-row2['z'])**2)**0.5\n",
    "            if(dij > 1.0):\n",
    "                Eij.append(row['Charge']*row2['Charge']/dij)\n",
    "PED2=[]\n",
    "Eij.sort(reverse = True)\n",
    "PED2.extend(Eij[0:6])\n",
    "PED2.extend(Eij[len(Eij)-6:len(Eij)])                "
   ]
  },
  {
   "cell_type": "code",
   "execution_count": 245,
   "metadata": {},
   "outputs": [
    {
     "data": {
      "text/plain": [
       "[0.14549397741715636,\n",
       " 0.12730383744484597,\n",
       " 0.1272364339940344,\n",
       " 0.08060721061945214,\n",
       " 0.06956037537852136,\n",
       " 0.05758099469121943,\n",
       " -0.14389864579536615,\n",
       " -0.14770210695156039,\n",
       " -0.14772713126322184,\n",
       " -0.14815581708460504,\n",
       " -0.2175458772857999,\n",
       " -0.3425269126797618]"
      ]
     },
     "execution_count": 245,
     "metadata": {},
     "output_type": "execute_result"
    }
   ],
   "source": [
    "PED2"
   ]
  },
  {
   "cell_type": "markdown",
   "metadata": {},
   "source": [
    "Now, lets compare both molecules Remdesivir and Hydroxychloroquine with vectors PED1 and PED2 respectively, using a Manhattan distance based similarity metrics S:\n",
    "\n",
    "$S=\\frac{1}{1+\\frac{1}{12}\\sum_{i=1}^{12}|u_i-v_i|}$\n",
    "\n",
    "Where u_i, v_i are the component vectors of molecule i and j (in the case of study,Remdesivir and Hydroxychloroquine)"
   ]
  },
  {
   "cell_type": "code",
   "execution_count": 246,
   "metadata": {},
   "outputs": [
    {
     "name": "stdout",
     "output_type": "stream",
     "text": [
      "Similarity between both molecules: 84.0  %\n"
     ]
    }
   ],
   "source": [
    "import numpy as np\n",
    "MhD=0.0\n",
    "for i in range(0,len(PED)-1):\n",
    "    MhD=MhD+1/12*np.absolute(PED[i]-PED2[i])\n",
    "S=1.0/(1.0+MhD)\n",
    "print('Similarity between both molecules:', np.round(S,2)*100,' %')"
   ]
  },
  {
   "cell_type": "markdown",
   "metadata": {},
   "source": [
    "The comparison with this two molecules using PED method and Manhattan distance metrics for similarity analysis \n",
    "provide score of 85%"
   ]
  },
  {
   "cell_type": "markdown",
   "metadata": {},
   "source": [
    "A fast virtual screening (VS) can be applied by computing this descriptors for very large database and \n",
    "obtaining the first Hits, that will be the most similar ones. This descriptors were designed in order to find active electrostatic \n",
    "regions in molecules and by assessing that similar patterns of electrostatic interactions will probably have in some cases\n",
    "the same drug targets. The similarity principle is the basis for search of new compounds, together with other approaches like\n",
    "docking.\n",
    "\n",
    "Other alternatives to numerical descriptors are the binary fingerprints (http://openbabel.org/wiki/Tutorial:Fingerprints)"
   ]
  },
  {
   "cell_type": "markdown",
   "metadata": {},
   "source": [
    "Now, lets do the processing several MOL2 separated files:"
   ]
  },
  {
   "cell_type": "code",
   "execution_count": 247,
   "metadata": {},
   "outputs": [
    {
     "name": "stdout",
     "output_type": "stream",
     "text": [
      "Similarity between query and  atoms.mol2  :  1.0\n"
     ]
    },
    {
     "ename": "IndexError",
     "evalue": "list index out of range",
     "output_type": "error",
     "traceback": [
      "\u001b[1;31m---------------------------------------------------------------------------\u001b[0m",
      "\u001b[1;31mIndexError\u001b[0m                                Traceback (most recent call last)",
      "\u001b[1;32m<ipython-input-247-0199078333b8>\u001b[0m in \u001b[0;36m<module>\u001b[1;34m()\u001b[0m\n\u001b[0;32m     52\u001b[0m         \u001b[0msim\u001b[0m\u001b[1;33m.\u001b[0m\u001b[0mappend\u001b[0m\u001b[1;33m(\u001b[0m\u001b[0mS\u001b[0m\u001b[1;33m)\u001b[0m\u001b[1;33m\u001b[0m\u001b[0m\n\u001b[0;32m     53\u001b[0m         \u001b[0mmdesc\u001b[0m\u001b[1;33m.\u001b[0m\u001b[0mextend\u001b[0m\u001b[1;33m(\u001b[0m\u001b[0mPED\u001b[0m\u001b[1;33m)\u001b[0m\u001b[1;33m\u001b[0m\u001b[0m\n\u001b[1;32m---> 54\u001b[1;33m         \u001b[0mdesf\u001b[0m\u001b[1;33m.\u001b[0m\u001b[0mwrite\u001b[0m\u001b[1;33m(\u001b[0m\u001b[0mstr\u001b[0m\u001b[1;33m(\u001b[0m\u001b[0mround\u001b[0m\u001b[1;33m(\u001b[0m\u001b[0mPED2\u001b[0m\u001b[1;33m[\u001b[0m\u001b[1;36m0\u001b[0m\u001b[1;33m]\u001b[0m\u001b[1;33m,\u001b[0m\u001b[1;36m4\u001b[0m\u001b[1;33m)\u001b[0m\u001b[1;33m)\u001b[0m\u001b[1;33m+\u001b[0m\u001b[1;34m','\u001b[0m\u001b[1;33m+\u001b[0m\u001b[0mstr\u001b[0m\u001b[1;33m(\u001b[0m\u001b[0mround\u001b[0m\u001b[1;33m(\u001b[0m\u001b[0mPED2\u001b[0m\u001b[1;33m[\u001b[0m\u001b[1;36m1\u001b[0m\u001b[1;33m]\u001b[0m\u001b[1;33m,\u001b[0m\u001b[1;36m4\u001b[0m\u001b[1;33m)\u001b[0m\u001b[1;33m)\u001b[0m\u001b[1;33m+\u001b[0m\u001b[1;34m','\u001b[0m\u001b[1;33m+\u001b[0m\u001b[0mstr\u001b[0m\u001b[1;33m(\u001b[0m\u001b[0mround\u001b[0m\u001b[1;33m(\u001b[0m\u001b[0mPED2\u001b[0m\u001b[1;33m[\u001b[0m\u001b[1;36m2\u001b[0m\u001b[1;33m]\u001b[0m\u001b[1;33m,\u001b[0m\u001b[1;36m4\u001b[0m\u001b[1;33m)\u001b[0m\u001b[1;33m)\u001b[0m\u001b[1;33m+\u001b[0m\u001b[1;34m','\u001b[0m\u001b[1;33m+\u001b[0m\u001b[0mstr\u001b[0m\u001b[1;33m(\u001b[0m\u001b[0mround\u001b[0m\u001b[1;33m(\u001b[0m\u001b[0mPED2\u001b[0m\u001b[1;33m[\u001b[0m\u001b[1;36m3\u001b[0m\u001b[1;33m]\u001b[0m\u001b[1;33m,\u001b[0m\u001b[1;36m4\u001b[0m\u001b[1;33m)\u001b[0m\u001b[1;33m)\u001b[0m\u001b[1;33m+\u001b[0m\u001b[1;34m','\u001b[0m\u001b[1;33m+\u001b[0m\u001b[0mstr\u001b[0m\u001b[1;33m(\u001b[0m\u001b[0mround\u001b[0m\u001b[1;33m(\u001b[0m\u001b[0mPED2\u001b[0m\u001b[1;33m[\u001b[0m\u001b[1;36m4\u001b[0m\u001b[1;33m]\u001b[0m\u001b[1;33m,\u001b[0m\u001b[1;36m4\u001b[0m\u001b[1;33m)\u001b[0m\u001b[1;33m)\u001b[0m\u001b[1;33m+\u001b[0m\u001b[1;34m','\u001b[0m\u001b[1;33m+\u001b[0m\u001b[0mstr\u001b[0m\u001b[1;33m(\u001b[0m\u001b[0mround\u001b[0m\u001b[1;33m(\u001b[0m\u001b[0mPED2\u001b[0m\u001b[1;33m[\u001b[0m\u001b[1;36m5\u001b[0m\u001b[1;33m]\u001b[0m\u001b[1;33m,\u001b[0m\u001b[1;36m4\u001b[0m\u001b[1;33m)\u001b[0m\u001b[1;33m)\u001b[0m\u001b[1;33m+\u001b[0m\u001b[1;34m','\u001b[0m\u001b[1;33m+\u001b[0m\u001b[0mstr\u001b[0m\u001b[1;33m(\u001b[0m\u001b[0mround\u001b[0m\u001b[1;33m(\u001b[0m\u001b[0mPED2\u001b[0m\u001b[1;33m[\u001b[0m\u001b[1;36m6\u001b[0m\u001b[1;33m]\u001b[0m\u001b[1;33m,\u001b[0m\u001b[1;36m4\u001b[0m\u001b[1;33m)\u001b[0m\u001b[1;33m)\u001b[0m\u001b[1;33m+\u001b[0m\u001b[1;34m','\u001b[0m\u001b[1;33m+\u001b[0m\u001b[0mstr\u001b[0m\u001b[1;33m(\u001b[0m\u001b[0mround\u001b[0m\u001b[1;33m(\u001b[0m\u001b[0mPED2\u001b[0m\u001b[1;33m[\u001b[0m\u001b[1;36m7\u001b[0m\u001b[1;33m]\u001b[0m\u001b[1;33m,\u001b[0m\u001b[1;36m4\u001b[0m\u001b[1;33m)\u001b[0m\u001b[1;33m)\u001b[0m\u001b[1;33m+\u001b[0m\u001b[1;34m','\u001b[0m\u001b[1;33m+\u001b[0m\u001b[0mstr\u001b[0m\u001b[1;33m(\u001b[0m\u001b[0mround\u001b[0m\u001b[1;33m(\u001b[0m\u001b[0mPED2\u001b[0m\u001b[1;33m[\u001b[0m\u001b[1;36m8\u001b[0m\u001b[1;33m]\u001b[0m\u001b[1;33m,\u001b[0m\u001b[1;36m4\u001b[0m\u001b[1;33m)\u001b[0m\u001b[1;33m)\u001b[0m\u001b[1;33m+\u001b[0m\u001b[1;34m','\u001b[0m\u001b[1;33m+\u001b[0m\u001b[0mstr\u001b[0m\u001b[1;33m(\u001b[0m\u001b[0mround\u001b[0m\u001b[1;33m(\u001b[0m\u001b[0mPED2\u001b[0m\u001b[1;33m[\u001b[0m\u001b[1;36m9\u001b[0m\u001b[1;33m]\u001b[0m\u001b[1;33m,\u001b[0m\u001b[1;36m4\u001b[0m\u001b[1;33m)\u001b[0m\u001b[1;33m)\u001b[0m\u001b[1;33m+\u001b[0m\u001b[1;34m','\u001b[0m\u001b[1;33m+\u001b[0m\u001b[0mstr\u001b[0m\u001b[1;33m(\u001b[0m\u001b[0mround\u001b[0m\u001b[1;33m(\u001b[0m\u001b[0mPED2\u001b[0m\u001b[1;33m[\u001b[0m\u001b[1;36m10\u001b[0m\u001b[1;33m]\u001b[0m\u001b[1;33m,\u001b[0m\u001b[1;36m4\u001b[0m\u001b[1;33m)\u001b[0m\u001b[1;33m)\u001b[0m\u001b[1;33m+\u001b[0m\u001b[1;34m','\u001b[0m\u001b[1;33m+\u001b[0m\u001b[0mstr\u001b[0m\u001b[1;33m(\u001b[0m\u001b[0mround\u001b[0m\u001b[1;33m(\u001b[0m\u001b[0mPED2\u001b[0m\u001b[1;33m[\u001b[0m\u001b[1;36m11\u001b[0m\u001b[1;33m]\u001b[0m\u001b[1;33m,\u001b[0m\u001b[1;36m4\u001b[0m\u001b[1;33m)\u001b[0m\u001b[1;33m)\u001b[0m\u001b[1;33m+\u001b[0m\u001b[1;34m', '\u001b[0m\u001b[1;33m+\u001b[0m\u001b[0mfilename\u001b[0m\u001b[1;33m+\u001b[0m\u001b[1;34m','\u001b[0m\u001b[1;33m+\u001b[0m\u001b[0mstr\u001b[0m\u001b[1;33m(\u001b[0m\u001b[0mround\u001b[0m\u001b[1;33m(\u001b[0m\u001b[0mS\u001b[0m\u001b[1;33m,\u001b[0m\u001b[1;36m4\u001b[0m\u001b[1;33m)\u001b[0m\u001b[1;33m)\u001b[0m\u001b[1;33m+\u001b[0m\u001b[1;34m'\\n'\u001b[0m\u001b[1;33m)\u001b[0m\u001b[1;33m\u001b[0m\u001b[0m\n\u001b[0m\u001b[0;32m     55\u001b[0m \u001b[1;33m\u001b[0m\u001b[0m\n\u001b[0;32m     56\u001b[0m \u001b[0mdesf\u001b[0m\u001b[1;33m.\u001b[0m\u001b[0mclose\u001b[0m\u001b[1;33m(\u001b[0m\u001b[1;33m)\u001b[0m\u001b[1;33m\u001b[0m\u001b[0m\n",
      "\u001b[1;31mIndexError\u001b[0m: list index out of range"
     ]
    }
   ],
   "source": [
    "import os\n",
    "import numpy as np\n",
    "import pandas as pd\n",
    "\n",
    "\n",
    "\n",
    "directory_in_str=\".\"\n",
    "directory = os.fsencode(directory_in_str)\n",
    "\n",
    "mdesc=[]\n",
    "sim=[]\n",
    "desf = open(\"PED.shd\", 'w')\n",
    "desf.write('u1,u2,u3,u4,u5,u6,u7,u8,u9,u10,u11,u12,label,S\\n')\n",
    "for file in os.listdir(directory):\n",
    "    filename = os.fsdecode(file)\n",
    "    if filename.endswith(\".mol2\"):\n",
    "        file=filename\n",
    "        fat = open(\"atoms.txt\", 'w')\n",
    "        fat.write(\"Id Atype x y z Otype Str1 Str2 Charge\\n\")\n",
    "        with open(file) as f:\n",
    "            for line in f:\n",
    "                if line.rstrip() == \"@<TRIPOS>ATOM\":\n",
    "#                    print(\"\")\n",
    "                    for line in f:\n",
    "                        if line.rstrip() == \"@<TRIPOS>BOND\":\n",
    "                            break\n",
    "                        fat.write(line.rstrip()+'\\n')\n",
    "        fat.close()\n",
    "\n",
    "        df=pd.read_csv('atoms.txt', delimiter=r\"\\s+\")\n",
    "\n",
    "        Eij=[]\n",
    "        for index, row in df.iterrows():\n",
    "            for index2, row2 in df.iterrows():\n",
    "                if(index2>index):\n",
    "                    dij=((row['x']-row2['x'])**2+(row['y']-row2['y'])**2+(row['z']-row2['z'])**2)**0.5\n",
    "                    if(dij > 1.0):\n",
    "                        Eij.append(row['Charge']*row2['Charge']/dij)\n",
    "                \n",
    "        PED2=[]\n",
    "        Eij.sort(reverse = True)\n",
    "        PED2.extend(Eij[0:6])\n",
    "        PED2.extend(Eij[len(Eij)-6:len(Eij)])\n",
    "        \n",
    "        MhD=0.0\n",
    "        for i in range(0,len(PED2)-1):\n",
    "            MhD=MhD+1/12*np.absolute(PED[i]-PED2[i])\n",
    "        S=1.0/(1.0+MhD)\n",
    "        print('Similarity between query and ',filename,' : ', np.round(S,2))\n",
    "        !rm atoms.txt\n",
    "        fat.close()\n",
    "        sim.append(S)\n",
    "        mdesc.extend(PED)\n",
    "        desf.write(str(round(PED2[0],4))+','+str(round(PED2[1],4))+','+str(round(PED2[2],4))+','+str(round(PED2[3],4))+','+str(round(PED2[4],4))+','+str(round(PED2[5],4))+','+str(round(PED2[6],4))+','+str(round(PED2[7],4))+','+str(round(PED2[8],4))+','+str(round(PED2[9],4))+','+str(round(PED2[10],4))+','+str(round(PED2[11],4))+', '+filename+','+str(round(S,4))+'\\n')\n",
    "\n",
    "desf.close()\n",
    "df=pd.read_csv('PED.shd')\n",
    "dfs=df.sort_values(by='S', ascending=False) \n",
    "dfs"
   ]
  },
  {
   "cell_type": "markdown",
   "metadata": {},
   "source": [
    "Let's observe the similarity between REMDEVISIR and itself is not 1.0 because differerent conformations has been used. \n",
    "The file used in Virtual Screening search belongs to MOL structure on KEGG database (https://www.kegg.jp/dbget-bin/www_bget?-f+m+drug+D11472) and the used as query has been generated with OpenBabel Software. However, its by far the most cosimilar structure.\n"
   ]
  }
 ],
 "metadata": {
  "kernelspec": {
   "display_name": "Python 3",
   "language": "python",
   "name": "python3"
  },
  "language_info": {
   "codemirror_mode": {
    "name": "ipython",
    "version": 3
   },
   "file_extension": ".py",
   "mimetype": "text/x-python",
   "name": "python",
   "nbconvert_exporter": "python",
   "pygments_lexer": "ipython3",
   "version": "3.6.5"
  }
 },
 "nbformat": 4,
 "nbformat_minor": 2
}
